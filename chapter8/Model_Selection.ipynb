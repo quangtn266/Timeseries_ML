{
 "cells": [
  {
   "cell_type": "code",
   "execution_count": 2,
   "id": "5cb9c91b-6783-4437-8906-e4df6904a93a",
   "metadata": {},
   "outputs": [],
   "source": [
    "from river import compose\n",
    "from river import linear_model\n",
    "from river import preprocessing\n",
    "from river import optim"
   ]
  },
  {
   "cell_type": "code",
   "execution_count": 3,
   "id": "4081a549-db9f-475c-9c89-f9f6be6ec1da",
   "metadata": {},
   "outputs": [],
   "source": [
    "models = [\n",
    "    compose.Pipeline(\n",
    "        preprocessing.StandardScaler(),\n",
    "        linear_model.LinearRegression(optimizer=optim.SGD(lr=lr))\n",
    "    )\n",
    "    for lr in [1e-4, 1e-3, 1e-2, 1e-1]\n",
    "]"
   ]
  },
  {
   "cell_type": "code",
   "execution_count": 4,
   "id": "b7c6d55c-0dc5-4ee1-99e0-30b655ce76c6",
   "metadata": {},
   "outputs": [],
   "source": [
    "from river import datasets\n",
    "dataset = datasets.TrumpApproval()"
   ]
  },
  {
   "cell_type": "code",
   "execution_count": 5,
   "id": "40b8b9e6-8652-4cd4-8d21-e5daa3066164",
   "metadata": {},
   "outputs": [],
   "source": [
    "from river.expert import UCBRegressor\n",
    "bandit = UCBRegressor(models=models, seed=1)"
   ]
  },
  {
   "cell_type": "code",
   "execution_count": 6,
   "id": "ef7ba21d-b87f-4919-91a5-8946c38e7645",
   "metadata": {},
   "outputs": [],
   "source": [
    "for x, y in dataset:\n",
    "    bandit = bandit.learn_one(x=x, y=y)"
   ]
  },
  {
   "cell_type": "code",
   "execution_count": 7,
   "id": "97932096-c6e7-4b33-a537-19b3d6a25c31",
   "metadata": {},
   "outputs": [
    {
     "name": "stdout",
     "output_type": "stream",
     "text": [
      "1.0e-04-2.45%\n",
      "1.0e-03-2.45%\n",
      "1.0e-02-92.25%\n",
      "1.0e-01-2.85%\n"
     ]
    }
   ],
   "source": [
    "for model, pct in zip(bandit.models, bandit.percentage_pulled):\n",
    "    lr = model[\"LinearRegression\"].optimizer.learning_rate\n",
    "    print(f\"{lr:.1e}-{pct:.2%}\")"
   ]
  },
  {
   "cell_type": "code",
   "execution_count": 8,
   "id": "293ec21c-129a-40a6-93c3-9100f07864ad",
   "metadata": {},
   "outputs": [
    {
     "name": "stdout",
     "output_type": "stream",
     "text": [
      "1.0e-04-0.00\n",
      "1.0e-03-0.00\n",
      "1.0e-02-0.74\n",
      "1.0e-01-0.05\n"
     ]
    }
   ],
   "source": [
    "for model, avg in zip(bandit.models, bandit.average_reward):\n",
    "    lr = model[\"LinearRegression\"].optimizer.learning_rate\n",
    "    print(f\"{lr:.1e}-{avg:.2f}\")"
   ]
  },
  {
   "cell_type": "code",
   "execution_count": 10,
   "id": "ab5e9221-5484-4c46-8977-b06ea0e48370",
   "metadata": {},
   "outputs": [
    {
     "data": {
      "text/html": [
       "<html><body><div class=\"pipeline\"><details class=\"estimator\"><summary><pre class=\"estimator-name\">StandardScaler</pre></summary><code class=\"estimator-params\">\n",
       "{'counts': Counter({'ordinal_date': 908,\n",
       "                    'gallup': 908,\n",
       "                    'ipsos': 908,\n",
       "                    'morning_consult': 908,\n",
       "                    'rasmussen': 908,\n",
       "                    'you_gov': 908}),\n",
       " 'means': defaultdict(&lt;class 'float'&gt;,\n",
       "                      {'gallup': 40.78979890308375,\n",
       "                       'ipsos': 40.429298676945656,\n",
       "                       'morning_consult': 40.63387181212547,\n",
       "                       'ordinal_date': 736932.9636563879,\n",
       "                       'rasmussen': 40.74786380616742,\n",
       "                       'you_gov': 40.76357160440594}),\n",
       " 'vars': defaultdict(&lt;class 'float'&gt;,\n",
       "                     {'gallup': 6.848743850550167,\n",
       "                      'ipsos': 5.506717856937678,\n",
       "                      'morning_consult': 4.765740639058466,\n",
       "                      'ordinal_date': 70779.06585983453,\n",
       "                      'rasmussen': 7.139193463874619,\n",
       "                      'you_gov': 3.8390386443817874}),\n",
       " 'with_std': True}\n",
       "\n",
       "</code></details><details class=\"estimator\"><summary><pre class=\"estimator-name\">LinearRegression</pre></summary><code class=\"estimator-params\">\n",
       "{'_weights': {'ordinal_date': 16.314064526536008, 'gallup': 0.3976236285764444, 'ipsos': -0.026850198500208575, 'morning_consult': -0.046817610881261906, 'rasmussen': 0.2300830085341009, 'you_gov': 0.05571432402839917},\n",
       " '_y_name': None,\n",
       " 'clip_gradient': 1000000000000.0,\n",
       " 'initializer': Zeros (),\n",
       " 'intercept': 13.169486552594464,\n",
       " 'intercept_init': 0.0,\n",
       " 'intercept_lr': Constant({'learning_rate': 0.01}),\n",
       " 'l2': 0.0,\n",
       " 'loss': Squared({}),\n",
       " 'optimizer': SGD({'lr': Constant({'learning_rate': 0.01}), 'n_iterations': 908})}\n",
       "\n",
       "</code></details></div></body><style>\n",
       ".estimator {\n",
       "    padding: 1em;\n",
       "    border-style: solid;\n",
       "    background: white;\n",
       "}\n",
       "\n",
       ".pipeline {\n",
       "    display: flex;\n",
       "    flex-direction: column;\n",
       "    align-items: center;\n",
       "    background: linear-gradient(#000, #000) no-repeat center / 3px 100%;\n",
       "}\n",
       "\n",
       ".union {\n",
       "    display: flex;\n",
       "    flex-direction: row;\n",
       "    align-items: center;\n",
       "    justify-content: center;\n",
       "    padding: 1em;\n",
       "    border-style: solid;\n",
       "    background: white\n",
       "}\n",
       "\n",
       "/* Vertical spacing between steps */\n",
       "\n",
       ".estimator + .estimator,\n",
       ".estimator + .union,\n",
       ".union + .estimator {\n",
       "    margin-top: 2em;\n",
       "}\n",
       "\n",
       ".union > .estimator {\n",
       "    margin-top: 0;\n",
       "}\n",
       "\n",
       "/* Spacing within a union of estimators */\n",
       "\n",
       ".union >\n",
       ".estimator + .estimator,\n",
       ".pipeline + .estimator,\n",
       ".estimator + .pipeline,\n",
       ".pipeline + .pipeline {\n",
       "    margin-left: 1em;\n",
       "}\n",
       "\n",
       "/* Typography */\n",
       ".estimator-params {\n",
       "    display: block;\n",
       "    white-space: pre-wrap;\n",
       "    font-size: 120%;\n",
       "    margin-bottom: -1em;\n",
       "}\n",
       "\n",
       ".estimator > code {\n",
       "    background-color: white !important;\n",
       "}\n",
       "\n",
       ".estimator-name {\n",
       "    display: inline;\n",
       "    margin: 0;\n",
       "    font-size: 130%;\n",
       "}\n",
       "\n",
       "/* Toggle */\n",
       "\n",
       "summary {\n",
       "    display: flex;\n",
       "    align-items:center;\n",
       "    cursor: pointer;\n",
       "}\n",
       "\n",
       "summary > div {\n",
       "    width: 100%;\n",
       "}\n",
       "</style></html>"
      ],
      "text/plain": [
       "Pipeline (\n",
       "  StandardScaler (\n",
       "    with_std=True\n",
       "  ),\n",
       "  LinearRegression (\n",
       "    optimizer=SGD (\n",
       "      lr=Constant (\n",
       "        learning_rate=0.01\n",
       "      )\n",
       "    )\n",
       "    loss=Squared ()\n",
       "    l2=0.\n",
       "    intercept_init=0.\n",
       "    intercept_lr=Constant (\n",
       "      learning_rate=0.01\n",
       "    )\n",
       "    clip_gradient=1e+12\n",
       "    initializer=Zeros ()\n",
       "  )\n",
       ")"
      ]
     },
     "execution_count": 10,
     "metadata": {},
     "output_type": "execute_result"
    }
   ],
   "source": [
    "best_model = bandit.best_model\n",
    "best_model"
   ]
  },
  {
   "cell_type": "code",
   "execution_count": 12,
   "id": "252a8c7b-904a-422f-a8fc-1bc1db6e7742",
   "metadata": {},
   "outputs": [
    {
     "data": {
      "text/plain": [
       "0.01"
      ]
     },
     "execution_count": 12,
     "metadata": {},
     "output_type": "execute_result"
    }
   ],
   "source": [
    "best_model[\"LinearRegression\"].intercept_lr.learning_rate"
   ]
  },
  {
   "cell_type": "code",
   "execution_count": null,
   "id": "1d4aa19f-56be-4178-bc9b-5d04ba269e24",
   "metadata": {},
   "outputs": [],
   "source": []
  }
 ],
 "metadata": {
  "kernelspec": {
   "display_name": "Python 3",
   "language": "python",
   "name": "python3"
  },
  "language_info": {
   "codemirror_mode": {
    "name": "ipython",
    "version": 3
   },
   "file_extension": ".py",
   "mimetype": "text/x-python",
   "name": "python",
   "nbconvert_exporter": "python",
   "pygments_lexer": "ipython3",
   "version": "3.6.13"
  }
 },
 "nbformat": 4,
 "nbformat_minor": 5
}
