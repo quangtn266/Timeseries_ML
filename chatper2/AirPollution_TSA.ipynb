{
 "cells": [
  {
   "cell_type": "code",
   "execution_count": 2,
   "id": "7446e958-c6bd-42de-9b91-a2c026ddbe7d",
   "metadata": {},
   "outputs": [],
   "source": [
    "import datetime\n",
    "import pandas as pd\n",
    "import matplotlib.pyplot as plt"
   ]
  },
  {
   "cell_type": "code",
   "execution_count": 43,
   "id": "659b6443-24bd-4c67-811a-b4b6edb7d553",
   "metadata": {},
   "outputs": [],
   "source": [
    "pollution = pd.read_csv(\n",
    "    'https://raw.githubusercontent.com/owid/owid-datasets/master/datasets/Air%20pollution%20by%20city%20-%20Fouquet%20and%20DPCC%20(2011)/Air%20pollution%20by%20city%20-%20Fouquet%20and%20DPCC%20(2011).csv'\n",
    ")"
   ]
  },
  {
   "cell_type": "code",
   "execution_count": 10,
   "id": "c03d75a8-5062-4dd1-85f4-66369916965a",
   "metadata": {},
   "outputs": [
    {
     "data": {
      "text/plain": [
       "331"
      ]
     },
     "execution_count": 10,
     "metadata": {},
     "output_type": "execute_result"
    }
   ],
   "source": [
    "len(pollution)"
   ]
  },
  {
   "cell_type": "code",
   "execution_count": 44,
   "id": "bf3d871e-983f-44c5-a70b-1ddf609f820d",
   "metadata": {},
   "outputs": [
    {
     "data": {
      "text/html": [
       "<div>\n",
       "<style scoped>\n",
       "    .dataframe tbody tr th:only-of-type {\n",
       "        vertical-align: middle;\n",
       "    }\n",
       "\n",
       "    .dataframe tbody tr th {\n",
       "        vertical-align: top;\n",
       "    }\n",
       "\n",
       "    .dataframe thead th {\n",
       "        text-align: right;\n",
       "    }\n",
       "</style>\n",
       "<table border=\"1\" class=\"dataframe\">\n",
       "  <thead>\n",
       "    <tr style=\"text-align: right;\">\n",
       "      <th></th>\n",
       "      <th>City</th>\n",
       "      <th>Year</th>\n",
       "      <th>Smoke</th>\n",
       "      <th>SPM</th>\n",
       "    </tr>\n",
       "  </thead>\n",
       "  <tbody>\n",
       "    <tr>\n",
       "      <th>0</th>\n",
       "      <td>Delhi</td>\n",
       "      <td>1997</td>\n",
       "      <td>NaN</td>\n",
       "      <td>363.0</td>\n",
       "    </tr>\n",
       "    <tr>\n",
       "      <th>1</th>\n",
       "      <td>Delhi</td>\n",
       "      <td>1998</td>\n",
       "      <td>NaN</td>\n",
       "      <td>378.0</td>\n",
       "    </tr>\n",
       "    <tr>\n",
       "      <th>2</th>\n",
       "      <td>Delhi</td>\n",
       "      <td>1999</td>\n",
       "      <td>NaN</td>\n",
       "      <td>375.0</td>\n",
       "    </tr>\n",
       "    <tr>\n",
       "      <th>3</th>\n",
       "      <td>Delhi</td>\n",
       "      <td>2000</td>\n",
       "      <td>NaN</td>\n",
       "      <td>431.0</td>\n",
       "    </tr>\n",
       "    <tr>\n",
       "      <th>4</th>\n",
       "      <td>Delhi</td>\n",
       "      <td>2001</td>\n",
       "      <td>NaN</td>\n",
       "      <td>382.0</td>\n",
       "    </tr>\n",
       "    <tr>\n",
       "      <th>...</th>\n",
       "      <td>...</td>\n",
       "      <td>...</td>\n",
       "      <td>...</td>\n",
       "      <td>...</td>\n",
       "    </tr>\n",
       "    <tr>\n",
       "      <th>326</th>\n",
       "      <td>London</td>\n",
       "      <td>2012</td>\n",
       "      <td>NaN</td>\n",
       "      <td>17.0</td>\n",
       "    </tr>\n",
       "    <tr>\n",
       "      <th>327</th>\n",
       "      <td>London</td>\n",
       "      <td>2013</td>\n",
       "      <td>NaN</td>\n",
       "      <td>17.0</td>\n",
       "    </tr>\n",
       "    <tr>\n",
       "      <th>328</th>\n",
       "      <td>London</td>\n",
       "      <td>2014</td>\n",
       "      <td>NaN</td>\n",
       "      <td>17.0</td>\n",
       "    </tr>\n",
       "    <tr>\n",
       "      <th>329</th>\n",
       "      <td>London</td>\n",
       "      <td>2015</td>\n",
       "      <td>NaN</td>\n",
       "      <td>15.0</td>\n",
       "    </tr>\n",
       "    <tr>\n",
       "      <th>330</th>\n",
       "      <td>London</td>\n",
       "      <td>2016</td>\n",
       "      <td>NaN</td>\n",
       "      <td>16.0</td>\n",
       "    </tr>\n",
       "  </tbody>\n",
       "</table>\n",
       "<p>331 rows × 4 columns</p>\n",
       "</div>"
      ],
      "text/plain": [
       "       City  Year  Smoke    SPM\n",
       "0     Delhi  1997    NaN  363.0\n",
       "1     Delhi  1998    NaN  378.0\n",
       "2     Delhi  1999    NaN  375.0\n",
       "3     Delhi  2000    NaN  431.0\n",
       "4     Delhi  2001    NaN  382.0\n",
       "..      ...   ...    ...    ...\n",
       "326  London  2012    NaN   17.0\n",
       "327  London  2013    NaN   17.0\n",
       "328  London  2014    NaN   17.0\n",
       "329  London  2015    NaN   15.0\n",
       "330  London  2016    NaN   16.0\n",
       "\n",
       "[331 rows x 4 columns]"
      ]
     },
     "execution_count": 44,
     "metadata": {},
     "output_type": "execute_result"
    }
   ],
   "source": [
    "pollution = pollution.rename(columns={\n",
    "        'Suspended Particulate Matter (SPM) (Fouquet and DPCC (2011))': 'SPM',\n",
    "        'Smoke (Fouquet and DPCC (2011))' : 'Smoke',\n",
    "            'Entity': 'City'\n",
    "}\n",
    ")\n",
    "pollution"
   ]
  },
  {
   "cell_type": "code",
   "execution_count": 14,
   "id": "9bda095e-dbf8-46e0-8511-b6780de75493",
   "metadata": {},
   "outputs": [
    {
     "data": {
      "text/plain": [
       "City      object\n",
       "Year       int64\n",
       "Smoke    float64\n",
       "SPM      float64\n",
       "dtype: object"
      ]
     },
     "execution_count": 14,
     "metadata": {},
     "output_type": "execute_result"
    }
   ],
   "source": [
    "pollution.dtypes"
   ]
  },
  {
   "cell_type": "code",
   "execution_count": 45,
   "id": "0d422871-86e4-4a5f-b302-e4b4960d2365",
   "metadata": {},
   "outputs": [
    {
     "data": {
      "text/plain": [
       "City             object\n",
       "Year     datetime64[ns]\n",
       "Smoke           float64\n",
       "SPM             float64\n",
       "dtype: object"
      ]
     },
     "execution_count": 45,
     "metadata": {},
     "output_type": "execute_result"
    }
   ],
   "source": [
    "pollution['Year']=pollution['Year'].apply(\n",
    "    lambda x: datetime.datetime.strptime(str(x), '%Y')\n",
    ")\n",
    "pollution.dtypes"
   ]
  },
  {
   "cell_type": "code",
   "execution_count": 46,
   "id": "843af981-8498-4576-933b-0730b45cf96c",
   "metadata": {},
   "outputs": [
    {
     "data": {
      "text/plain": [
       "City     0.000000\n",
       "Year     0.000000\n",
       "Smoke    0.090634\n",
       "SPM      0.000000\n",
       "dtype: float64"
      ]
     },
     "execution_count": 46,
     "metadata": {},
     "output_type": "execute_result"
    }
   ],
   "source": [
    "pollution.isnull().mean()"
   ]
  },
  {
   "cell_type": "code",
   "execution_count": 19,
   "id": "3706cf1b-1c2b-497c-ab43-35cdce414e7f",
   "metadata": {},
   "outputs": [
    {
     "data": {
      "text/plain": [
       "Text(0, 0.5, 'Frequency')"
      ]
     },
     "execution_count": 19,
     "metadata": {},
     "output_type": "execute_result"
    },
    {
     "data": {
      "image/png": "[encoded data removed]",
      "text/plain": [
       "<Figure size 640x480 with 1 Axes>"
      ]
     },
     "metadata": {},
     "output_type": "display_data"
    }
   ],
   "source": [
    "n, bins, patches = plt.hist(\n",
    "    x=pollution['SPM'], bins='auto',\n",
    "    alpha=0.7, rwidth=0.85\n",
    ")\n",
    "plt.grid(axis='y', alpha=0.75)\n",
    "plt.xlabel('SPM')\n",
    "plt.ylabel('Frequency')"
   ]
  },
  {
   "cell_type": "code",
   "execution_count": 23,
   "id": "3456ab77-b3d3-4c3d-8c8f-38866db8752f",
   "metadata": {},
   "outputs": [
    {
     "data": {
      "text/plain": [
       "PearsonRResult(statistic=0.9999999999999999, pvalue=0.0)"
      ]
     },
     "execution_count": 23,
     "metadata": {},
     "output_type": "execute_result"
    }
   ],
   "source": [
    "from scipy import stats\n",
    "\n",
    "def ignore_nans(a, b):\n",
    "    index = ~a.isnull() & ~b.isnull()\n",
    "    return a[index], b[index]\n",
    "\n",
    "stats.pearsonr(*ignore_nans(pollution['Smoke'], pollution['SPM']))"
   ]
  },
  {
   "cell_type": "code",
   "execution_count": 19,
   "id": "15a06c9e-3cba-4960-a596-6f6c1536e3b0",
   "metadata": {},
   "outputs": [],
   "source": [
    "temperatures = pd.read_csv(\"./data/monthly_csv.csv\")"
   ]
  },
  {
   "cell_type": "code",
   "execution_count": 20,
   "id": "9aa4463c-bd6f-42ed-a9b9-bdeb110ff5c2",
   "metadata": {},
   "outputs": [
    {
     "data": {
      "text/html": [
       "<div>\n",
       "<style scoped>\n",
       "    .dataframe tbody tr th:only-of-type {\n",
       "        vertical-align: middle;\n",
       "    }\n",
       "\n",
       "    .dataframe tbody tr th {\n",
       "        vertical-align: top;\n",
       "    }\n",
       "\n",
       "    .dataframe thead th {\n",
       "        text-align: right;\n",
       "    }\n",
       "</style>\n",
       "<table border=\"1\" class=\"dataframe\">\n",
       "  <thead>\n",
       "    <tr style=\"text-align: right;\">\n",
       "      <th></th>\n",
       "      <th>Source</th>\n",
       "      <th>Date</th>\n",
       "      <th>Mean</th>\n",
       "    </tr>\n",
       "  </thead>\n",
       "  <tbody>\n",
       "    <tr>\n",
       "      <th>0</th>\n",
       "      <td>GCAG</td>\n",
       "      <td>2016-12-06</td>\n",
       "      <td>0.7895</td>\n",
       "    </tr>\n",
       "    <tr>\n",
       "      <th>1</th>\n",
       "      <td>GISTEMP</td>\n",
       "      <td>2016-12-06</td>\n",
       "      <td>0.8100</td>\n",
       "    </tr>\n",
       "    <tr>\n",
       "      <th>2</th>\n",
       "      <td>GCAG</td>\n",
       "      <td>2016-11-06</td>\n",
       "      <td>0.7504</td>\n",
       "    </tr>\n",
       "    <tr>\n",
       "      <th>3</th>\n",
       "      <td>GISTEMP</td>\n",
       "      <td>2016-11-06</td>\n",
       "      <td>0.9300</td>\n",
       "    </tr>\n",
       "    <tr>\n",
       "      <th>4</th>\n",
       "      <td>GCAG</td>\n",
       "      <td>2016-10-06</td>\n",
       "      <td>0.7292</td>\n",
       "    </tr>\n",
       "    <tr>\n",
       "      <th>...</th>\n",
       "      <td>...</td>\n",
       "      <td>...</td>\n",
       "      <td>...</td>\n",
       "    </tr>\n",
       "    <tr>\n",
       "      <th>3283</th>\n",
       "      <td>GISTEMP</td>\n",
       "      <td>1880-03-06</td>\n",
       "      <td>-0.1800</td>\n",
       "    </tr>\n",
       "    <tr>\n",
       "      <th>3284</th>\n",
       "      <td>GCAG</td>\n",
       "      <td>1880-02-06</td>\n",
       "      <td>-0.1229</td>\n",
       "    </tr>\n",
       "    <tr>\n",
       "      <th>3285</th>\n",
       "      <td>GISTEMP</td>\n",
       "      <td>1880-02-06</td>\n",
       "      <td>-0.2100</td>\n",
       "    </tr>\n",
       "    <tr>\n",
       "      <th>3286</th>\n",
       "      <td>GCAG</td>\n",
       "      <td>1880-01-06</td>\n",
       "      <td>0.0009</td>\n",
       "    </tr>\n",
       "    <tr>\n",
       "      <th>3287</th>\n",
       "      <td>GISTEMP</td>\n",
       "      <td>1880-01-06</td>\n",
       "      <td>-0.3000</td>\n",
       "    </tr>\n",
       "  </tbody>\n",
       "</table>\n",
       "<p>3288 rows × 3 columns</p>\n",
       "</div>"
      ],
      "text/plain": [
       "       Source        Date    Mean\n",
       "0        GCAG  2016-12-06  0.7895\n",
       "1     GISTEMP  2016-12-06  0.8100\n",
       "2        GCAG  2016-11-06  0.7504\n",
       "3     GISTEMP  2016-11-06  0.9300\n",
       "4        GCAG  2016-10-06  0.7292\n",
       "...       ...         ...     ...\n",
       "3283  GISTEMP  1880-03-06 -0.1800\n",
       "3284     GCAG  1880-02-06 -0.1229\n",
       "3285  GISTEMP  1880-02-06 -0.2100\n",
       "3286     GCAG  1880-01-06  0.0009\n",
       "3287  GISTEMP  1880-01-06 -0.3000\n",
       "\n",
       "[3288 rows x 3 columns]"
      ]
     },
     "execution_count": 20,
     "metadata": {},
     "output_type": "execute_result"
    }
   ],
   "source": [
    "temperatures"
   ]
  },
  {
   "cell_type": "code",
   "execution_count": 22,
   "id": "172cf645-8a3c-4793-b1c9-563b2c273d1e",
   "metadata": {},
   "outputs": [
    {
     "data": {
      "text/html": [
       "<div>\n",
       "<style scoped>\n",
       "    .dataframe tbody tr th:only-of-type {\n",
       "        vertical-align: middle;\n",
       "    }\n",
       "\n",
       "    .dataframe tbody tr th {\n",
       "        vertical-align: top;\n",
       "    }\n",
       "\n",
       "    .dataframe thead th {\n",
       "        text-align: right;\n",
       "    }\n",
       "</style>\n",
       "<table border=\"1\" class=\"dataframe\">\n",
       "  <thead>\n",
       "    <tr style=\"text-align: right;\">\n",
       "      <th></th>\n",
       "      <th>Source</th>\n",
       "      <th>Date</th>\n",
       "      <th>Mean</th>\n",
       "    </tr>\n",
       "  </thead>\n",
       "  <tbody>\n",
       "    <tr>\n",
       "      <th>0</th>\n",
       "      <td>GCAG</td>\n",
       "      <td>2016-12-06</td>\n",
       "      <td>0.7895</td>\n",
       "    </tr>\n",
       "    <tr>\n",
       "      <th>1</th>\n",
       "      <td>GISTEMP</td>\n",
       "      <td>2016-12-06</td>\n",
       "      <td>0.8100</td>\n",
       "    </tr>\n",
       "    <tr>\n",
       "      <th>2</th>\n",
       "      <td>GCAG</td>\n",
       "      <td>2016-11-06</td>\n",
       "      <td>0.7504</td>\n",
       "    </tr>\n",
       "    <tr>\n",
       "      <th>3</th>\n",
       "      <td>GISTEMP</td>\n",
       "      <td>2016-11-06</td>\n",
       "      <td>0.9300</td>\n",
       "    </tr>\n",
       "    <tr>\n",
       "      <th>4</th>\n",
       "      <td>GCAG</td>\n",
       "      <td>2016-10-06</td>\n",
       "      <td>0.7292</td>\n",
       "    </tr>\n",
       "    <tr>\n",
       "      <th>...</th>\n",
       "      <td>...</td>\n",
       "      <td>...</td>\n",
       "      <td>...</td>\n",
       "    </tr>\n",
       "    <tr>\n",
       "      <th>3283</th>\n",
       "      <td>GISTEMP</td>\n",
       "      <td>1880-03-06</td>\n",
       "      <td>-0.1800</td>\n",
       "    </tr>\n",
       "    <tr>\n",
       "      <th>3284</th>\n",
       "      <td>GCAG</td>\n",
       "      <td>1880-02-06</td>\n",
       "      <td>-0.1229</td>\n",
       "    </tr>\n",
       "    <tr>\n",
       "      <th>3285</th>\n",
       "      <td>GISTEMP</td>\n",
       "      <td>1880-02-06</td>\n",
       "      <td>-0.2100</td>\n",
       "    </tr>\n",
       "    <tr>\n",
       "      <th>3286</th>\n",
       "      <td>GCAG</td>\n",
       "      <td>1880-01-06</td>\n",
       "      <td>0.0009</td>\n",
       "    </tr>\n",
       "    <tr>\n",
       "      <th>3287</th>\n",
       "      <td>GISTEMP</td>\n",
       "      <td>1880-01-06</td>\n",
       "      <td>-0.3000</td>\n",
       "    </tr>\n",
       "  </tbody>\n",
       "</table>\n",
       "<p>3288 rows × 3 columns</p>\n",
       "</div>"
      ],
      "text/plain": [
       "       Source       Date    Mean\n",
       "0        GCAG 2016-12-06  0.7895\n",
       "1     GISTEMP 2016-12-06  0.8100\n",
       "2        GCAG 2016-11-06  0.7504\n",
       "3     GISTEMP 2016-11-06  0.9300\n",
       "4        GCAG 2016-10-06  0.7292\n",
       "...       ...        ...     ...\n",
       "3283  GISTEMP 1880-03-06 -0.1800\n",
       "3284     GCAG 1880-02-06 -0.1229\n",
       "3285  GISTEMP 1880-02-06 -0.2100\n",
       "3286     GCAG 1880-01-06  0.0009\n",
       "3287  GISTEMP 1880-01-06 -0.3000\n",
       "\n",
       "[3288 rows x 3 columns]"
      ]
     },
     "execution_count": 22,
     "metadata": {},
     "output_type": "execute_result"
    }
   ],
   "source": [
    "temperatures['Date'] = pd.to_datetime(temperatures['Date'])\n",
    "temperatures"
   ]
  },
  {
   "cell_type": "code",
   "execution_count": 23,
   "id": "431e2398-df32-4b8b-818b-76a8a59d8921",
   "metadata": {},
   "outputs": [
    {
     "data": {
      "text/html": [
       "<div>\n",
       "<style scoped>\n",
       "    .dataframe tbody tr th:only-of-type {\n",
       "        vertical-align: middle;\n",
       "    }\n",
       "\n",
       "    .dataframe tbody tr th {\n",
       "        vertical-align: top;\n",
       "    }\n",
       "\n",
       "    .dataframe thead th {\n",
       "        text-align: right;\n",
       "    }\n",
       "</style>\n",
       "<table border=\"1\" class=\"dataframe\">\n",
       "  <thead>\n",
       "    <tr style=\"text-align: right;\">\n",
       "      <th>Source</th>\n",
       "      <th>GCAG</th>\n",
       "      <th>GISTEMP</th>\n",
       "    </tr>\n",
       "    <tr>\n",
       "      <th>Date</th>\n",
       "      <th></th>\n",
       "      <th></th>\n",
       "    </tr>\n",
       "  </thead>\n",
       "  <tbody>\n",
       "    <tr>\n",
       "      <th>1880-01-06</th>\n",
       "      <td>0.0009</td>\n",
       "      <td>-0.30</td>\n",
       "    </tr>\n",
       "    <tr>\n",
       "      <th>1880-02-06</th>\n",
       "      <td>-0.1229</td>\n",
       "      <td>-0.21</td>\n",
       "    </tr>\n",
       "    <tr>\n",
       "      <th>1880-03-06</th>\n",
       "      <td>-0.1357</td>\n",
       "      <td>-0.18</td>\n",
       "    </tr>\n",
       "    <tr>\n",
       "      <th>1880-04-06</th>\n",
       "      <td>-0.0499</td>\n",
       "      <td>-0.27</td>\n",
       "    </tr>\n",
       "    <tr>\n",
       "      <th>1880-05-06</th>\n",
       "      <td>-0.0738</td>\n",
       "      <td>-0.14</td>\n",
       "    </tr>\n",
       "    <tr>\n",
       "      <th>...</th>\n",
       "      <td>...</td>\n",
       "      <td>...</td>\n",
       "    </tr>\n",
       "    <tr>\n",
       "      <th>2016-08-06</th>\n",
       "      <td>0.8998</td>\n",
       "      <td>0.98</td>\n",
       "    </tr>\n",
       "    <tr>\n",
       "      <th>2016-09-06</th>\n",
       "      <td>0.8767</td>\n",
       "      <td>0.87</td>\n",
       "    </tr>\n",
       "    <tr>\n",
       "      <th>2016-10-06</th>\n",
       "      <td>0.7292</td>\n",
       "      <td>0.89</td>\n",
       "    </tr>\n",
       "    <tr>\n",
       "      <th>2016-11-06</th>\n",
       "      <td>0.7504</td>\n",
       "      <td>0.93</td>\n",
       "    </tr>\n",
       "    <tr>\n",
       "      <th>2016-12-06</th>\n",
       "      <td>0.7895</td>\n",
       "      <td>0.81</td>\n",
       "    </tr>\n",
       "  </tbody>\n",
       "</table>\n",
       "<p>1644 rows × 2 columns</p>\n",
       "</div>"
      ],
      "text/plain": [
       "Source        GCAG  GISTEMP\n",
       "Date                       \n",
       "1880-01-06  0.0009    -0.30\n",
       "1880-02-06 -0.1229    -0.21\n",
       "1880-03-06 -0.1357    -0.18\n",
       "1880-04-06 -0.0499    -0.27\n",
       "1880-05-06 -0.0738    -0.14\n",
       "...            ...      ...\n",
       "2016-08-06  0.8998     0.98\n",
       "2016-09-06  0.8767     0.87\n",
       "2016-10-06  0.7292     0.89\n",
       "2016-11-06  0.7504     0.93\n",
       "2016-12-06  0.7895     0.81\n",
       "\n",
       "[1644 rows x 2 columns]"
      ]
     },
     "execution_count": 23,
     "metadata": {},
     "output_type": "execute_result"
    }
   ],
   "source": [
    "temperatures = temperatures.pivot(index='Date', columns='Source', values='Mean')\n",
    "temperatures"
   ]
  },
  {
   "cell_type": "code",
   "execution_count": 24,
   "id": "18a96691-6e1c-40e2-8b33-46430264e5a5",
   "metadata": {},
   "outputs": [
    {
     "data": {
      "text/plain": [
       "Index([ 1,  2,  3,  4,  5,  6,  7,  8,  9, 10,\n",
       "       ...\n",
       "        3,  4,  5,  6,  7,  8,  9, 10, 11, 12],\n",
       "      dtype='int32', name='Date', length=1644)"
      ]
     },
     "execution_count": 24,
     "metadata": {},
     "output_type": "execute_result"
    }
   ],
   "source": [
    "temperatures['GCAG'].index.month"
   ]
  },
  {
   "cell_type": "code",
   "execution_count": 29,
   "id": "a03c416b-f8e5-41bb-b428-6721804403aa",
   "metadata": {},
   "outputs": [],
   "source": [
    "from numpy import polyfit\n",
    "\n",
    "def fit(X, y, degree=3):\n",
    "    coef = polyfit(X, y, degree)\n",
    "    trendpoly = np.poly1d(coef)\n",
    "    return trendpoly(X)\n",
    "\n",
    "def get_season(s, yearly_periods=4, degree=3):\n",
    "    X = [i%(365/4) for i in range(0, len(s))]\n",
    "    seasonal = fit(X, s.values, degree)\n",
    "    return pd.Series(data=seasonal, index=s.index)\n",
    "\n",
    "def get_trend(s, degress=3):\n",
    "    X = list(range(len(s)))\n",
    "    trend = fit(X, s.values, degress)\n",
    "    return pd.Series(data=trend, index=s.index)"
   ]
  },
  {
   "cell_type": "code",
   "execution_count": 30,
   "id": "3fab5baa-6334-45c6-91f1-57e1db771173",
   "metadata": {},
   "outputs": [
    {
     "data": {
      "text/plain": [
       "Text(0, 0.5, 'Temperature change')"
      ]
     },
     "execution_count": 30,
     "metadata": {},
     "output_type": "execute_result"
    },
    {
     "data": {
      "image/png": "[encoded data removed]",
      "text/plain": [
       "<Figure size 1200x600 with 1 Axes>"
      ]
     },
     "metadata": {},
     "output_type": "display_data"
    }
   ],
   "source": [
    "import seaborn as sns\n",
    "import numpy as np\n",
    "\n",
    "plt.figure(figsize=(12, 6))\n",
    "temperatures['trend'] = get_trend(temperatures['GCAG'])\n",
    "temperatures['season'] = get_season(temperatures['GCAG'] -temperatures['trend'])\n",
    "sns.lineplot(data = temperatures[['GCAG', 'season', 'trend']])\n",
    "plt.ylabel('Temperature change')"
   ]
  },
  {
   "cell_type": "code",
   "execution_count": 47,
   "id": "99d81f5c-0a83-4205-92a0-d63c368b9ae7",
   "metadata": {},
   "outputs": [],
   "source": [
    "pollution = pollution.pivot(index=\"Year\",columns=\"City\",values=\"SPM\")"
   ]
  },
  {
   "cell_type": "code",
   "execution_count": 48,
   "id": "efe9ab70-9e02-48eb-a391-0e96b0f8c794",
   "metadata": {},
   "outputs": [
    {
     "data": {
      "text/html": [
       "<div>\n",
       "<style scoped>\n",
       "    .dataframe tbody tr th:only-of-type {\n",
       "        vertical-align: middle;\n",
       "    }\n",
       "\n",
       "    .dataframe tbody tr th {\n",
       "        vertical-align: top;\n",
       "    }\n",
       "\n",
       "    .dataframe thead th {\n",
       "        text-align: right;\n",
       "    }\n",
       "</style>\n",
       "<table border=\"1\" class=\"dataframe\">\n",
       "  <thead>\n",
       "    <tr style=\"text-align: right;\">\n",
       "      <th>City</th>\n",
       "      <th>Delhi</th>\n",
       "      <th>London</th>\n",
       "    </tr>\n",
       "    <tr>\n",
       "      <th>Year</th>\n",
       "      <th></th>\n",
       "      <th></th>\n",
       "    </tr>\n",
       "  </thead>\n",
       "  <tbody>\n",
       "    <tr>\n",
       "      <th>1700-01-01</th>\n",
       "      <td>NaN</td>\n",
       "      <td>259.740260</td>\n",
       "    </tr>\n",
       "    <tr>\n",
       "      <th>1701-01-01</th>\n",
       "      <td>NaN</td>\n",
       "      <td>262.337662</td>\n",
       "    </tr>\n",
       "    <tr>\n",
       "      <th>1702-01-01</th>\n",
       "      <td>NaN</td>\n",
       "      <td>264.935065</td>\n",
       "    </tr>\n",
       "    <tr>\n",
       "      <th>1703-01-01</th>\n",
       "      <td>NaN</td>\n",
       "      <td>267.532467</td>\n",
       "    </tr>\n",
       "    <tr>\n",
       "      <th>1704-01-01</th>\n",
       "      <td>NaN</td>\n",
       "      <td>270.129870</td>\n",
       "    </tr>\n",
       "    <tr>\n",
       "      <th>...</th>\n",
       "      <td>...</td>\n",
       "      <td>...</td>\n",
       "    </tr>\n",
       "    <tr>\n",
       "      <th>2012-01-01</th>\n",
       "      <td>NaN</td>\n",
       "      <td>17.000000</td>\n",
       "    </tr>\n",
       "    <tr>\n",
       "      <th>2013-01-01</th>\n",
       "      <td>NaN</td>\n",
       "      <td>17.000000</td>\n",
       "    </tr>\n",
       "    <tr>\n",
       "      <th>2014-01-01</th>\n",
       "      <td>NaN</td>\n",
       "      <td>17.000000</td>\n",
       "    </tr>\n",
       "    <tr>\n",
       "      <th>2015-01-01</th>\n",
       "      <td>NaN</td>\n",
       "      <td>15.000000</td>\n",
       "    </tr>\n",
       "    <tr>\n",
       "      <th>2016-01-01</th>\n",
       "      <td>NaN</td>\n",
       "      <td>16.000000</td>\n",
       "    </tr>\n",
       "  </tbody>\n",
       "</table>\n",
       "<p>317 rows × 2 columns</p>\n",
       "</div>"
      ],
      "text/plain": [
       "City        Delhi      London\n",
       "Year                         \n",
       "1700-01-01    NaN  259.740260\n",
       "1701-01-01    NaN  262.337662\n",
       "1702-01-01    NaN  264.935065\n",
       "1703-01-01    NaN  267.532467\n",
       "1704-01-01    NaN  270.129870\n",
       "...           ...         ...\n",
       "2012-01-01    NaN   17.000000\n",
       "2013-01-01    NaN   17.000000\n",
       "2014-01-01    NaN   17.000000\n",
       "2015-01-01    NaN   15.000000\n",
       "2016-01-01    NaN   16.000000\n",
       "\n",
       "[317 rows x 2 columns]"
      ]
     },
     "execution_count": 48,
     "metadata": {},
     "output_type": "execute_result"
    }
   ],
   "source": [
    "pollution"
   ]
  },
  {
   "cell_type": "code",
   "execution_count": 50,
   "id": "4dc9dad3-f511-4ef5-aa4d-502a1fc94124",
   "metadata": {},
   "outputs": [
    {
     "data": {
      "text/plain": [
       "<Axes: xlabel='Lag', ylabel='Autocorrelation'>"
      ]
     },
     "execution_count": 50,
     "metadata": {},
     "output_type": "execute_result"
    },
    {
     "data": {
      "image/png": "[encoded data removed]",
      "text/plain": [
       "<Figure size 640x480 with 1 Axes>"
      ]
     },
     "metadata": {},
     "output_type": "display_data"
    }
   ],
   "source": [
    "pd.plotting.autocorrelation_plot(pollution['London'])"
   ]
  },
  {
   "cell_type": "code",
   "execution_count": 54,
   "id": "1a6f08ea-1c71-4abd-b9ee-84ba8d1aba1f",
   "metadata": {},
   "outputs": [],
   "source": [
    "from statsmodels.tsa import stattools"
   ]
  },
  {
   "cell_type": "code",
   "execution_count": 55,
   "id": "6e6d19e4-be7f-4d0c-8a2f-70a6fd22eed5",
   "metadata": {},
   "outputs": [
    {
     "data": {
      "text/plain": [
       "(-0.33721640804242853,\n",
       " 0.9200654843183897,\n",
       " 13,\n",
       " 303,\n",
       " {'1%': -3.4521175397304784,\n",
       "  '5%': -2.8711265007266666,\n",
       "  '10%': -2.571877823851692},\n",
       " 1684.699266349387)"
      ]
     },
     "execution_count": 55,
     "metadata": {},
     "output_type": "execute_result"
    }
   ],
   "source": [
    "stattools.adfuller(pollution['London'])"
   ]
  },
  {
   "cell_type": "code",
   "execution_count": null,
   "id": "8af41671-7a7e-4d91-8d00-9d35b8788e23",
   "metadata": {},
   "outputs": [],
   "source": []
  }
 ],
 "metadata": {
  "kernelspec": {
   "display_name": "Python 3 (ipykernel)",
   "language": "python",
   "name": "python3"
  },
  "language_info": {
   "codemirror_mode": {
    "name": "ipython",
    "version": 3
   },
   "file_extension": ".py",
   "mimetype": "text/x-python",
   "name": "python",
   "nbconvert_exporter": "python",
   "pygments_lexer": "ipython3",
   "version": "3.8.18"
  }
 },
 "nbformat": 4,
 "nbformat_minor": 5
}
