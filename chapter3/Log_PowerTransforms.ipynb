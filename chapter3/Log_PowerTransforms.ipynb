{
 "cells": [
  {
   "cell_type": "code",
   "execution_count": 8,
   "id": "db7e7c3c-c41b-4988-8d7d-424233ca23f5",
   "metadata": {},
   "outputs": [],
   "source": [
    "from scipy.optimize import minimize\n",
    "import numpy as np\n",
    "np.random.seed(0)"
   ]
  },
  {
   "cell_type": "code",
   "execution_count": 9,
   "id": "056ce3f1-638b-48c7-b2f1-535ba5fe44cd",
   "metadata": {},
   "outputs": [],
   "source": [
    "pts = 10000\n",
    "vals = np.random.lognormal(0, 1.0, pts)"
   ]
  },
  {
   "cell_type": "code",
   "execution_count": 24,
   "id": "adce7f72-00fe-4ddb-94a2-0b83ac957126",
   "metadata": {},
   "outputs": [
    {
     "data": {
      "text/plain": [
       "array([5.83603919, 1.49205924, 2.66109578, ..., 1.67677479, 0.9676153 ,\n",
       "       3.66237349])"
      ]
     },
     "execution_count": 24,
     "metadata": {},
     "output_type": "execute_result"
    }
   ],
   "source": [
    "vals"
   ]
  },
  {
   "cell_type": "code",
   "execution_count": 21,
   "id": "ba49c28a-596c-4fee-b782-d187eb0b9028",
   "metadata": {},
   "outputs": [
    {
     "name": "stdout",
     "output_type": "stream",
     "text": [
      "significance: 0.00\n"
     ]
    }
   ],
   "source": [
    "from sklearn.preprocessing import StandardScaler\n",
    "from scipy.stats import normaltest\n",
    "scaler = StandardScaler()\n",
    "vals_ss = scaler.fit_transform(vals.reshape(-1, 1))\n",
    "_, p = normaltest(vals_ss)\n",
    "print(f\"significance: %.2f\" % p)"
   ]
  },
  {
   "cell_type": "code",
   "execution_count": 25,
   "id": "c4d5bf23-ca12-4be9-a671-0c6f5c66032a",
   "metadata": {},
   "outputs": [
    {
     "name": "stdout",
     "output_type": "stream",
     "text": [
      "significane: 0.00\n"
     ]
    }
   ],
   "source": [
    "from sklearn.preprocessing import minmax_scale\n",
    "vals_mm = minmax_scale(vals)\n",
    "_, p = normaltest(vals_mm.squeeze())\n",
    "print(f\"significane: %.2f\" % p)"
   ]
  },
  {
   "cell_type": "code",
   "execution_count": 26,
   "id": "0b44e729-fab5-4afa-adaf-43d14285b356",
   "metadata": {},
   "outputs": [
    {
     "name": "stdout",
     "output_type": "stream",
     "text": [
      "significane: 0.46\n"
     ]
    }
   ],
   "source": [
    "log_transformed = np.log(vals)\n",
    "_, p = normaltest(log_transformed)\n",
    "print(f\"significane: %.2f\" %p)"
   ]
  },
  {
   "cell_type": "code",
   "execution_count": 27,
   "id": "dd82aba3-09d4-42bd-8118-99cb0f151904",
   "metadata": {},
   "outputs": [],
   "source": [
    "from scipy.stats import boxcox\n",
    "vals_bc = boxcox(vals, 0.0)"
   ]
  },
  {
   "cell_type": "code",
   "execution_count": 28,
   "id": "e88f48dd-2556-4834-9868-bb85547fb9e1",
   "metadata": {},
   "outputs": [
    {
     "data": {
      "text/plain": [
       "array([ 1.76405235,  0.40015721,  0.97873798, ...,  0.51687218,\n",
       "       -0.03292069,  1.29811143])"
      ]
     },
     "execution_count": 28,
     "metadata": {},
     "output_type": "execute_result"
    }
   ],
   "source": [
    "vals_bc"
   ]
  },
  {
   "cell_type": "code",
   "execution_count": null,
   "id": "560dd7ad-229d-4543-8cca-c8cba5a9b2a0",
   "metadata": {},
   "outputs": [],
   "source": []
  }
 ],
 "metadata": {
  "kernelspec": {
   "display_name": "Python 3 (ipykernel)",
   "language": "python",
   "name": "python3"
  },
  "language_info": {
   "codemirror_mode": {
    "name": "ipython",
    "version": 3
   },
   "file_extension": ".py",
   "mimetype": "text/x-python",
   "name": "python",
   "nbconvert_exporter": "python",
   "pygments_lexer": "ipython3",
   "version": "3.8.18"
  }
 },
 "nbformat": 4,
 "nbformat_minor": 5
}
