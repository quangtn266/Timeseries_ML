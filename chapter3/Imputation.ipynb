{
 "cells": [
  {
   "cell_type": "markdown",
   "id": "69d853d3-9c40-47aa-97ca-ccc9bcb19e0d",
   "metadata": {},
   "source": [
    "## Imputation"
   ]
  },
  {
   "cell_type": "code",
   "execution_count": 1,
   "id": "9acd90b2-6bd0-417a-9483-318edfebb707",
   "metadata": {},
   "outputs": [],
   "source": [
    "import numpy as np\n",
    "from sklearn.impute import SimpleImputer"
   ]
  },
  {
   "cell_type": "code",
   "execution_count": 2,
   "id": "cb92b20e-1aae-49d6-829d-0deeea3ae689",
   "metadata": {},
   "outputs": [],
   "source": [
    "imp_mean = SimpleImputer(missing_values=np.nan, strategy='mean')"
   ]
  },
  {
   "cell_type": "code",
   "execution_count": 3,
   "id": "17600b88-2939-4015-9dec-ec22cde4b53e",
   "metadata": {},
   "outputs": [
    {
     "name": "stdout",
     "output_type": "stream",
     "text": [
      "[[ 7.   2.   3. ]\n",
      " [ 4.   3.5  6. ]\n",
      " [10.   3.5  9. ]]\n"
     ]
    }
   ],
   "source": [
    "imp_mean.fit([[7, 2, 3], [4, np.nan, 6], [10, 5, 9]])\n",
    "SimpleImputer()\n",
    "df = [[np.nan, 2, 3], [4, np.nan, 6], [10, np.nan, 9]]\n",
    "print(imp_mean.transform(df))"
   ]
  },
  {
   "cell_type": "markdown",
   "id": "af4aa32e-0850-488e-9811-7c12ebbe2edf",
   "metadata": {},
   "source": [
    "## Holiday Features"
   ]
  },
  {
   "cell_type": "code",
   "execution_count": 13,
   "id": "6dc23f52-5cb9-4d51-af75-0fe9f91e7e0a",
   "metadata": {},
   "outputs": [
    {
     "ename": "ModuleNotFoundError",
     "evalue": "No module named 'workalendar.europe.united_kingdom'; 'workalendar.europe' is not a package",
     "output_type": "error",
     "traceback": [
      "\u001b[0;31m---------------------------------------------------------------------------\u001b[0m",
      "\u001b[0;31mModuleNotFoundError\u001b[0m                       Traceback (most recent call last)",
      "Cell \u001b[0;32mIn[13], line 1\u001b[0m\n\u001b[0;32m----> 1\u001b[0m \u001b[38;5;28;01mfrom\u001b[39;00m \u001b[38;5;21;01mworkalendar\u001b[39;00m\u001b[38;5;21;01m.\u001b[39;00m\u001b[38;5;21;01meurope\u001b[39;00m\u001b[38;5;21;01m.\u001b[39;00m\u001b[38;5;21;01munited_kingdom\u001b[39;00m \u001b[38;5;28;01mimport\u001b[39;00m UnitedKingdom\n\u001b[1;32m      2\u001b[0m cal \u001b[38;5;241m=\u001b[39m UnitedKingdom()\n\u001b[1;32m      3\u001b[0m cal\u001b[38;5;241m.\u001b[39mholidays()\n",
      "\u001b[0;31mModuleNotFoundError\u001b[0m: No module named 'workalendar.europe.united_kingdom'; 'workalendar.europe' is not a package"
     ]
    }
   ],
   "source": [
    "from workalendar.europe.united_kingdom import UnitedKingdom\n",
    "cal = UnitedKingdom()\n",
    "cal.holidays()"
   ]
  },
  {
   "cell_type": "code",
   "execution_count": 11,
   "id": "332c151a-cbad-47db-aa97-b236d5249fb3",
   "metadata": {},
   "outputs": [
    {
     "ename": "ModuleNotFoundError",
     "evalue": "No module named 'workalendar.usa'",
     "output_type": "error",
     "traceback": [
      "\u001b[0;31m---------------------------------------------------------------------------\u001b[0m",
      "\u001b[0;31mModuleNotFoundError\u001b[0m                       Traceback (most recent call last)",
      "Cell \u001b[0;32mIn[11], line 4\u001b[0m\n\u001b[1;32m      2\u001b[0m \u001b[38;5;28;01mfrom\u001b[39;00m \u001b[38;5;21;01mdateutil\u001b[39;00m\u001b[38;5;21;01m.\u001b[39;00m\u001b[38;5;21;01mrelativedelta\u001b[39;00m \u001b[38;5;28;01mimport\u001b[39;00m relativedelta, TH\n\u001b[1;32m      3\u001b[0m \u001b[38;5;28;01mimport\u001b[39;00m \u001b[38;5;21;01mdatetime\u001b[39;00m\n\u001b[0;32m----> 4\u001b[0m \u001b[38;5;28;01mfrom\u001b[39;00m \u001b[38;5;21;01mworkalendar\u001b[39;00m\u001b[38;5;21;01m.\u001b[39;00m\u001b[38;5;21;01musa\u001b[39;00m \u001b[38;5;28;01mimport\u001b[39;00m California\n\u001b[1;32m      6\u001b[0m \u001b[38;5;28;01mdef\u001b[39;00m \u001b[38;5;21mcreate_custom_holdays\u001b[39m(year: \u001b[38;5;28mint\u001b[39m) \u001b[38;5;241m-\u001b[39m\u001b[38;5;241m>\u001b[39m List:\n\u001b[1;32m      7\u001b[0m     custom_holidays \u001b[38;5;241m=\u001b[39m California()\u001b[38;5;241m.\u001b[39mholidays()\n",
      "\u001b[0;31mModuleNotFoundError\u001b[0m: No module named 'workalendar.usa'"
     ]
    }
   ],
   "source": [
    "from typing import List\n",
    "from dateutil.relativedelta import relativedelta, TH\n",
    "import datetime\n",
    "from workalendar.usa import California\n",
    "\n",
    "def create_custom_holdays(year: int) -> List:\n",
    "    custom_holidays = California().holidays()\n",
    "    custom_holidays.append((\n",
    "    (datetime.datetime(year, 11, 1) + relativedelta(weekday=TH(+4)) + datetime.timedelta(days=1)).date(),\n",
    "    \"Black Friday\"\n",
    "    ))\n",
    "    return {k: v for (k, v) in custom_holidays}\n",
    "\n",
    "custom_holidays = create_custom_holidays(2012)\n",
    "custom_holidays"
   ]
  },
  {
   "cell_type": "code",
   "execution_count": 16,
   "id": "deb13a93-b9fa-4668-9564-601162c5635a",
   "metadata": {},
   "outputs": [
    {
     "name": "stdout",
     "output_type": "stream",
     "text": [
      "Looking in indexes: https://pypi.org/simple, https://pypi.ngc.nvidia.com\n",
      "Requirement already satisfied: workalendar in /Users/quangtn/opt/anaconda3/envs/timeseries/lib/python3.8/site-packages (0.0.1)\n",
      "Requirement already satisfied: python-dateutil in /Users/quangtn/opt/anaconda3/envs/timeseries/lib/python3.8/site-packages (from workalendar) (2.8.2)\n",
      "Requirement already satisfied: six>=1.5 in /Users/quangtn/opt/anaconda3/envs/timeseries/lib/python3.8/site-packages (from python-dateutil->workalendar) (1.16.0)\n",
      "Note: you may need to restart the kernel to use updated packages.\n"
     ]
    }
   ],
   "source": [
    "pip install workalendar"
   ]
  },
  {
   "cell_type": "markdown",
   "id": "cfd50951-8299-4b5b-9408-d5bd0f6e9766",
   "metadata": {},
   "source": [
    "## Date Annotation"
   ]
  },
  {
   "cell_type": "code",
   "execution_count": 17,
   "id": "36d41057-b443-49a6-a301-7875936c13b6",
   "metadata": {},
   "outputs": [
    {
     "data": {
      "text/plain": [
       "(4, 31)"
      ]
     },
     "execution_count": 17,
     "metadata": {},
     "output_type": "execute_result"
    }
   ],
   "source": [
    "import calendar\n",
    "calendar.monthrange(2021, 1)"
   ]
  },
  {
   "cell_type": "code",
   "execution_count": 34,
   "id": "5de90c58-900b-4456-9bbc-e3fb011301bd",
   "metadata": {},
   "outputs": [
    {
     "ename": "TypeError",
     "evalue": "an integer is required (got type getset_descriptor)",
     "output_type": "error",
     "traceback": [
      "\u001b[0;31m---------------------------------------------------------------------------\u001b[0m",
      "\u001b[0;31mTypeError\u001b[0m                                 Traceback (most recent call last)",
      "Cell \u001b[0;32mIn[34], line 7\u001b[0m\n\u001b[1;32m      2\u001b[0m \u001b[38;5;28;01mdef\u001b[39;00m \u001b[38;5;21myear_anchor\u001b[39m(current_date: datetime):\n\u001b[1;32m      3\u001b[0m     \u001b[38;5;28;01mreturn\u001b[39;00m (\n\u001b[1;32m      4\u001b[0m         (current_date \u001b[38;5;241m-\u001b[39m date(current_date\u001b[38;5;241m.\u001b[39myear, \u001b[38;5;241m1\u001b[39m, \u001b[38;5;241m1\u001b[39m))\u001b[38;5;241m.\u001b[39mdays,\n\u001b[1;32m      5\u001b[0m         (date(current_date\u001b[38;5;241m.\u001b[39myear, \u001b[38;5;241m12\u001b[39m, \u001b[38;5;241m31\u001b[39m) \u001b[38;5;241m-\u001b[39m current_date)\u001b[38;5;241m.\u001b[39mdays,\n\u001b[1;32m      6\u001b[0m     )\n\u001b[0;32m----> 7\u001b[0m \u001b[43myear_anchor\u001b[49m\u001b[43m(\u001b[49m\u001b[43mdatetime\u001b[49m\u001b[43m)\u001b[49m\n",
      "Cell \u001b[0;32mIn[34], line 4\u001b[0m, in \u001b[0;36myear_anchor\u001b[0;34m(current_date)\u001b[0m\n\u001b[1;32m      2\u001b[0m \u001b[38;5;28;01mdef\u001b[39;00m \u001b[38;5;21myear_anchor\u001b[39m(current_date: datetime):\n\u001b[1;32m      3\u001b[0m     \u001b[38;5;28;01mreturn\u001b[39;00m (\n\u001b[0;32m----> 4\u001b[0m         (current_date \u001b[38;5;241m-\u001b[39m \u001b[43mdate\u001b[49m\u001b[43m(\u001b[49m\u001b[43mcurrent_date\u001b[49m\u001b[38;5;241;43m.\u001b[39;49m\u001b[43myear\u001b[49m\u001b[43m,\u001b[49m\u001b[43m \u001b[49m\u001b[38;5;241;43m1\u001b[39;49m\u001b[43m,\u001b[49m\u001b[43m \u001b[49m\u001b[38;5;241;43m1\u001b[39;49m\u001b[43m)\u001b[49m)\u001b[38;5;241m.\u001b[39mdays,\n\u001b[1;32m      5\u001b[0m         (date(current_date\u001b[38;5;241m.\u001b[39myear, \u001b[38;5;241m12\u001b[39m, \u001b[38;5;241m31\u001b[39m) \u001b[38;5;241m-\u001b[39m current_date)\u001b[38;5;241m.\u001b[39mdays,\n\u001b[1;32m      6\u001b[0m     )\n",
      "\u001b[0;31mTypeError\u001b[0m: an integer is required (got type getset_descriptor)"
     ]
    }
   ],
   "source": [
    "from datetime import datetime\n",
    "def year_anchor(current_date: datetime):\n",
    "    return (\n",
    "        (current_date - date(current_date.year, 1, 1)).days,\n",
    "        (date(current_date.year, 12, 31) - current_date).days,\n",
    "    )\n",
    "year_anchor(datetime)"
   ]
  },
  {
   "cell_type": "code",
   "execution_count": 33,
   "id": "e6721a21-413e-4281-839e-9550c27ad897",
   "metadata": {},
   "outputs": [
    {
     "ename": "TypeError",
     "evalue": "'getset_descriptor' object is not callable",
     "output_type": "error",
     "traceback": [
      "\u001b[0;31m---------------------------------------------------------------------------\u001b[0m",
      "\u001b[0;31mTypeError\u001b[0m                                 Traceback (most recent call last)",
      "Cell \u001b[0;32mIn[33], line 1\u001b[0m\n\u001b[0;32m----> 1\u001b[0m \u001b[43mdatetime\u001b[49m\u001b[38;5;241;43m.\u001b[39;49m\u001b[43myear\u001b[49m\u001b[43m(\u001b[49m\u001b[43m)\u001b[49m\n",
      "\u001b[0;31mTypeError\u001b[0m: 'getset_descriptor' object is not callable"
     ]
    }
   ],
   "source": [
    "datetime.year()"
   ]
  },
  {
   "cell_type": "markdown",
   "id": "db64f2b9-5006-45db-8e88-f285cb9869af",
   "metadata": {},
   "source": [
    "## Automated Feature Extraction"
   ]
  },
  {
   "cell_type": "code",
   "execution_count": 37,
   "id": "ed24b68f-02f6-48f4-a269-a42d69803d6c",
   "metadata": {},
   "outputs": [],
   "source": [
    "import featuretools as ft\n",
    "from featuretools.primitives import Minute, Hour, Day, Month, Year, Weekday\n",
    "import pandas as pd"
   ]
  },
  {
   "cell_type": "code",
   "execution_count": 42,
   "id": "de939256-bb69-4074-8625-95b03a626aa1",
   "metadata": {},
   "outputs": [
    {
     "name": "stderr",
     "output_type": "stream",
     "text": [
      "/Users/quangtn/opt/anaconda3/envs/timeseries/lib/python3.8/site-packages/featuretools/synthesis/deep_feature_synthesis.py:169: UserWarning: Only one dataframe in entityset, changing max_depth to 1 since deeper features cannot be created\n",
      "  warnings.warn(\n"
     ]
    }
   ],
   "source": [
    "data = pd.DataFrame(\n",
    "    {'Time': ['2014-01-01 01:41:00',\n",
    "              '2014-01-01 02:21:10',\n",
    "              '2014-01-01 03:00:20',\n",
    "              '2014-01-01 04:50:30',\n",
    "              '2014-01-01 06:11:50'],\n",
    "     'Target': [0, 0, 0, 0, 1]}\n",
    ")\n",
    "data['index'] = data.index\n",
    "es = ft.EntitySet('My EntitySet')\n",
    "es.add_dataframe(\n",
    "    dataframe_name='main_data_table',\n",
    "    index='index',\n",
    "    dataframe=data,\n",
    "    time_index='Time'\n",
    ")\n",
    "fm, features = ft.dfs(\n",
    "    entityset=es,\n",
    "    target_dataframe_name='main_data_table',\n",
    "    trans_primitives=[Minute, Hour, Day, Month, Year, Weekday]\n",
    ")"
   ]
  },
  {
   "cell_type": "code",
   "execution_count": 44,
   "id": "9966d362-f942-4057-a7c5-e44205c48367",
   "metadata": {},
   "outputs": [
    {
     "data": {
      "text/html": [
       "<div>\n",
       "<style scoped>\n",
       "    .dataframe tbody tr th:only-of-type {\n",
       "        vertical-align: middle;\n",
       "    }\n",
       "\n",
       "    .dataframe tbody tr th {\n",
       "        vertical-align: top;\n",
       "    }\n",
       "\n",
       "    .dataframe thead th {\n",
       "        text-align: right;\n",
       "    }\n",
       "</style>\n",
       "<table border=\"1\" class=\"dataframe\">\n",
       "  <thead>\n",
       "    <tr style=\"text-align: right;\">\n",
       "      <th></th>\n",
       "      <th>Target</th>\n",
       "      <th>DAY(Time)</th>\n",
       "      <th>HOUR(Time)</th>\n",
       "      <th>MINUTE(Time)</th>\n",
       "      <th>MONTH(Time)</th>\n",
       "      <th>WEEKDAY(Time)</th>\n",
       "      <th>YEAR(Time)</th>\n",
       "    </tr>\n",
       "    <tr>\n",
       "      <th>index</th>\n",
       "      <th></th>\n",
       "      <th></th>\n",
       "      <th></th>\n",
       "      <th></th>\n",
       "      <th></th>\n",
       "      <th></th>\n",
       "      <th></th>\n",
       "    </tr>\n",
       "  </thead>\n",
       "  <tbody>\n",
       "    <tr>\n",
       "      <th>0</th>\n",
       "      <td>0</td>\n",
       "      <td>1</td>\n",
       "      <td>1</td>\n",
       "      <td>41</td>\n",
       "      <td>1</td>\n",
       "      <td>2</td>\n",
       "      <td>2014</td>\n",
       "    </tr>\n",
       "    <tr>\n",
       "      <th>1</th>\n",
       "      <td>0</td>\n",
       "      <td>1</td>\n",
       "      <td>2</td>\n",
       "      <td>21</td>\n",
       "      <td>1</td>\n",
       "      <td>2</td>\n",
       "      <td>2014</td>\n",
       "    </tr>\n",
       "    <tr>\n",
       "      <th>2</th>\n",
       "      <td>0</td>\n",
       "      <td>1</td>\n",
       "      <td>3</td>\n",
       "      <td>0</td>\n",
       "      <td>1</td>\n",
       "      <td>2</td>\n",
       "      <td>2014</td>\n",
       "    </tr>\n",
       "    <tr>\n",
       "      <th>3</th>\n",
       "      <td>0</td>\n",
       "      <td>1</td>\n",
       "      <td>4</td>\n",
       "      <td>50</td>\n",
       "      <td>1</td>\n",
       "      <td>2</td>\n",
       "      <td>2014</td>\n",
       "    </tr>\n",
       "    <tr>\n",
       "      <th>4</th>\n",
       "      <td>1</td>\n",
       "      <td>1</td>\n",
       "      <td>6</td>\n",
       "      <td>11</td>\n",
       "      <td>1</td>\n",
       "      <td>2</td>\n",
       "      <td>2014</td>\n",
       "    </tr>\n",
       "  </tbody>\n",
       "</table>\n",
       "</div>"
      ],
      "text/plain": [
       "       Target DAY(Time) HOUR(Time) MINUTE(Time) MONTH(Time) WEEKDAY(Time)  \\\n",
       "index                                                                       \n",
       "0           0         1          1           41           1             2   \n",
       "1           0         1          2           21           1             2   \n",
       "2           0         1          3            0           1             2   \n",
       "3           0         1          4           50           1             2   \n",
       "4           1         1          6           11           1             2   \n",
       "\n",
       "      YEAR(Time)  \n",
       "index             \n",
       "0           2014  \n",
       "1           2014  \n",
       "2           2014  \n",
       "3           2014  \n",
       "4           2014  "
      ]
     },
     "execution_count": 44,
     "metadata": {},
     "output_type": "execute_result"
    }
   ],
   "source": [
    "fm"
   ]
  },
  {
   "cell_type": "code",
   "execution_count": 45,
   "id": "18a2aace-03f2-4a04-be9c-4f5a1e319c9c",
   "metadata": {},
   "outputs": [
    {
     "name": "stderr",
     "output_type": "stream",
     "text": [
      "Feature Extraction: 100%|██████████████████████████████████████████████████████████████████████| 10/10 [00:01<00:00,  6.66it/s]\n"
     ]
    },
    {
     "data": {
      "text/html": [
       "<div>\n",
       "<style scoped>\n",
       "    .dataframe tbody tr th:only-of-type {\n",
       "        vertical-align: middle;\n",
       "    }\n",
       "\n",
       "    .dataframe tbody tr th {\n",
       "        vertical-align: top;\n",
       "    }\n",
       "\n",
       "    .dataframe thead th {\n",
       "        text-align: right;\n",
       "    }\n",
       "</style>\n",
       "<table border=\"1\" class=\"dataframe\">\n",
       "  <thead>\n",
       "    <tr style=\"text-align: right;\">\n",
       "      <th></th>\n",
       "      <th>Target__variance_larger_than_standard_deviation</th>\n",
       "      <th>Target__has_duplicate_max</th>\n",
       "      <th>Target__has_duplicate_min</th>\n",
       "      <th>Target__has_duplicate</th>\n",
       "      <th>Target__sum_values</th>\n",
       "      <th>Target__abs_energy</th>\n",
       "      <th>Target__mean_abs_change</th>\n",
       "      <th>Target__mean_change</th>\n",
       "      <th>Target__mean_second_derivative_central</th>\n",
       "      <th>Target__median</th>\n",
       "      <th>...</th>\n",
       "      <th>index__fourier_entropy__bins_5</th>\n",
       "      <th>index__fourier_entropy__bins_10</th>\n",
       "      <th>index__fourier_entropy__bins_100</th>\n",
       "      <th>index__permutation_entropy__dimension_3__tau_1</th>\n",
       "      <th>index__permutation_entropy__dimension_4__tau_1</th>\n",
       "      <th>index__permutation_entropy__dimension_5__tau_1</th>\n",
       "      <th>index__permutation_entropy__dimension_6__tau_1</th>\n",
       "      <th>index__permutation_entropy__dimension_7__tau_1</th>\n",
       "      <th>index__query_similarity_count__query_None__threshold_0.0</th>\n",
       "      <th>index__mean_n_absolute_max__number_of_maxima_7</th>\n",
       "    </tr>\n",
       "  </thead>\n",
       "  <tbody>\n",
       "    <tr>\n",
       "      <th>2014-01-01 01:41:00</th>\n",
       "      <td>0.0</td>\n",
       "      <td>0.0</td>\n",
       "      <td>0.0</td>\n",
       "      <td>0.0</td>\n",
       "      <td>0.0</td>\n",
       "      <td>0.0</td>\n",
       "      <td>NaN</td>\n",
       "      <td>NaN</td>\n",
       "      <td>NaN</td>\n",
       "      <td>0.0</td>\n",
       "      <td>...</td>\n",
       "      <td>NaN</td>\n",
       "      <td>NaN</td>\n",
       "      <td>NaN</td>\n",
       "      <td>NaN</td>\n",
       "      <td>NaN</td>\n",
       "      <td>NaN</td>\n",
       "      <td>NaN</td>\n",
       "      <td>NaN</td>\n",
       "      <td>NaN</td>\n",
       "      <td>NaN</td>\n",
       "    </tr>\n",
       "    <tr>\n",
       "      <th>2014-01-01 02:21:10</th>\n",
       "      <td>0.0</td>\n",
       "      <td>0.0</td>\n",
       "      <td>0.0</td>\n",
       "      <td>0.0</td>\n",
       "      <td>0.0</td>\n",
       "      <td>0.0</td>\n",
       "      <td>NaN</td>\n",
       "      <td>NaN</td>\n",
       "      <td>NaN</td>\n",
       "      <td>0.0</td>\n",
       "      <td>...</td>\n",
       "      <td>NaN</td>\n",
       "      <td>NaN</td>\n",
       "      <td>NaN</td>\n",
       "      <td>NaN</td>\n",
       "      <td>NaN</td>\n",
       "      <td>NaN</td>\n",
       "      <td>NaN</td>\n",
       "      <td>NaN</td>\n",
       "      <td>NaN</td>\n",
       "      <td>NaN</td>\n",
       "    </tr>\n",
       "    <tr>\n",
       "      <th>2014-01-01 03:00:20</th>\n",
       "      <td>0.0</td>\n",
       "      <td>0.0</td>\n",
       "      <td>0.0</td>\n",
       "      <td>0.0</td>\n",
       "      <td>0.0</td>\n",
       "      <td>0.0</td>\n",
       "      <td>NaN</td>\n",
       "      <td>NaN</td>\n",
       "      <td>NaN</td>\n",
       "      <td>0.0</td>\n",
       "      <td>...</td>\n",
       "      <td>NaN</td>\n",
       "      <td>NaN</td>\n",
       "      <td>NaN</td>\n",
       "      <td>NaN</td>\n",
       "      <td>NaN</td>\n",
       "      <td>NaN</td>\n",
       "      <td>NaN</td>\n",
       "      <td>NaN</td>\n",
       "      <td>NaN</td>\n",
       "      <td>NaN</td>\n",
       "    </tr>\n",
       "    <tr>\n",
       "      <th>2014-01-01 04:50:30</th>\n",
       "      <td>0.0</td>\n",
       "      <td>0.0</td>\n",
       "      <td>0.0</td>\n",
       "      <td>0.0</td>\n",
       "      <td>0.0</td>\n",
       "      <td>0.0</td>\n",
       "      <td>NaN</td>\n",
       "      <td>NaN</td>\n",
       "      <td>NaN</td>\n",
       "      <td>0.0</td>\n",
       "      <td>...</td>\n",
       "      <td>NaN</td>\n",
       "      <td>NaN</td>\n",
       "      <td>NaN</td>\n",
       "      <td>NaN</td>\n",
       "      <td>NaN</td>\n",
       "      <td>NaN</td>\n",
       "      <td>NaN</td>\n",
       "      <td>NaN</td>\n",
       "      <td>NaN</td>\n",
       "      <td>NaN</td>\n",
       "    </tr>\n",
       "    <tr>\n",
       "      <th>2014-01-01 06:11:50</th>\n",
       "      <td>0.0</td>\n",
       "      <td>0.0</td>\n",
       "      <td>0.0</td>\n",
       "      <td>0.0</td>\n",
       "      <td>1.0</td>\n",
       "      <td>1.0</td>\n",
       "      <td>NaN</td>\n",
       "      <td>NaN</td>\n",
       "      <td>NaN</td>\n",
       "      <td>1.0</td>\n",
       "      <td>...</td>\n",
       "      <td>NaN</td>\n",
       "      <td>NaN</td>\n",
       "      <td>NaN</td>\n",
       "      <td>NaN</td>\n",
       "      <td>NaN</td>\n",
       "      <td>NaN</td>\n",
       "      <td>NaN</td>\n",
       "      <td>NaN</td>\n",
       "      <td>NaN</td>\n",
       "      <td>NaN</td>\n",
       "    </tr>\n",
       "  </tbody>\n",
       "</table>\n",
       "<p>5 rows × 1566 columns</p>\n",
       "</div>"
      ],
      "text/plain": [
       "                     Target__variance_larger_than_standard_deviation  \\\n",
       "2014-01-01 01:41:00                                              0.0   \n",
       "2014-01-01 02:21:10                                              0.0   \n",
       "2014-01-01 03:00:20                                              0.0   \n",
       "2014-01-01 04:50:30                                              0.0   \n",
       "2014-01-01 06:11:50                                              0.0   \n",
       "\n",
       "                     Target__has_duplicate_max  Target__has_duplicate_min  \\\n",
       "2014-01-01 01:41:00                        0.0                        0.0   \n",
       "2014-01-01 02:21:10                        0.0                        0.0   \n",
       "2014-01-01 03:00:20                        0.0                        0.0   \n",
       "2014-01-01 04:50:30                        0.0                        0.0   \n",
       "2014-01-01 06:11:50                        0.0                        0.0   \n",
       "\n",
       "                     Target__has_duplicate  Target__sum_values  \\\n",
       "2014-01-01 01:41:00                    0.0                 0.0   \n",
       "2014-01-01 02:21:10                    0.0                 0.0   \n",
       "2014-01-01 03:00:20                    0.0                 0.0   \n",
       "2014-01-01 04:50:30                    0.0                 0.0   \n",
       "2014-01-01 06:11:50                    0.0                 1.0   \n",
       "\n",
       "                     Target__abs_energy  Target__mean_abs_change  \\\n",
       "2014-01-01 01:41:00                 0.0                      NaN   \n",
       "2014-01-01 02:21:10                 0.0                      NaN   \n",
       "2014-01-01 03:00:20                 0.0                      NaN   \n",
       "2014-01-01 04:50:30                 0.0                      NaN   \n",
       "2014-01-01 06:11:50                 1.0                      NaN   \n",
       "\n",
       "                     Target__mean_change  \\\n",
       "2014-01-01 01:41:00                  NaN   \n",
       "2014-01-01 02:21:10                  NaN   \n",
       "2014-01-01 03:00:20                  NaN   \n",
       "2014-01-01 04:50:30                  NaN   \n",
       "2014-01-01 06:11:50                  NaN   \n",
       "\n",
       "                     Target__mean_second_derivative_central  Target__median  \\\n",
       "2014-01-01 01:41:00                                     NaN             0.0   \n",
       "2014-01-01 02:21:10                                     NaN             0.0   \n",
       "2014-01-01 03:00:20                                     NaN             0.0   \n",
       "2014-01-01 04:50:30                                     NaN             0.0   \n",
       "2014-01-01 06:11:50                                     NaN             1.0   \n",
       "\n",
       "                     ...  index__fourier_entropy__bins_5  \\\n",
       "2014-01-01 01:41:00  ...                             NaN   \n",
       "2014-01-01 02:21:10  ...                             NaN   \n",
       "2014-01-01 03:00:20  ...                             NaN   \n",
       "2014-01-01 04:50:30  ...                             NaN   \n",
       "2014-01-01 06:11:50  ...                             NaN   \n",
       "\n",
       "                     index__fourier_entropy__bins_10  \\\n",
       "2014-01-01 01:41:00                              NaN   \n",
       "2014-01-01 02:21:10                              NaN   \n",
       "2014-01-01 03:00:20                              NaN   \n",
       "2014-01-01 04:50:30                              NaN   \n",
       "2014-01-01 06:11:50                              NaN   \n",
       "\n",
       "                     index__fourier_entropy__bins_100  \\\n",
       "2014-01-01 01:41:00                               NaN   \n",
       "2014-01-01 02:21:10                               NaN   \n",
       "2014-01-01 03:00:20                               NaN   \n",
       "2014-01-01 04:50:30                               NaN   \n",
       "2014-01-01 06:11:50                               NaN   \n",
       "\n",
       "                     index__permutation_entropy__dimension_3__tau_1  \\\n",
       "2014-01-01 01:41:00                                             NaN   \n",
       "2014-01-01 02:21:10                                             NaN   \n",
       "2014-01-01 03:00:20                                             NaN   \n",
       "2014-01-01 04:50:30                                             NaN   \n",
       "2014-01-01 06:11:50                                             NaN   \n",
       "\n",
       "                     index__permutation_entropy__dimension_4__tau_1  \\\n",
       "2014-01-01 01:41:00                                             NaN   \n",
       "2014-01-01 02:21:10                                             NaN   \n",
       "2014-01-01 03:00:20                                             NaN   \n",
       "2014-01-01 04:50:30                                             NaN   \n",
       "2014-01-01 06:11:50                                             NaN   \n",
       "\n",
       "                     index__permutation_entropy__dimension_5__tau_1  \\\n",
       "2014-01-01 01:41:00                                             NaN   \n",
       "2014-01-01 02:21:10                                             NaN   \n",
       "2014-01-01 03:00:20                                             NaN   \n",
       "2014-01-01 04:50:30                                             NaN   \n",
       "2014-01-01 06:11:50                                             NaN   \n",
       "\n",
       "                     index__permutation_entropy__dimension_6__tau_1  \\\n",
       "2014-01-01 01:41:00                                             NaN   \n",
       "2014-01-01 02:21:10                                             NaN   \n",
       "2014-01-01 03:00:20                                             NaN   \n",
       "2014-01-01 04:50:30                                             NaN   \n",
       "2014-01-01 06:11:50                                             NaN   \n",
       "\n",
       "                     index__permutation_entropy__dimension_7__tau_1  \\\n",
       "2014-01-01 01:41:00                                             NaN   \n",
       "2014-01-01 02:21:10                                             NaN   \n",
       "2014-01-01 03:00:20                                             NaN   \n",
       "2014-01-01 04:50:30                                             NaN   \n",
       "2014-01-01 06:11:50                                             NaN   \n",
       "\n",
       "                     index__query_similarity_count__query_None__threshold_0.0  \\\n",
       "2014-01-01 01:41:00                                                NaN          \n",
       "2014-01-01 02:21:10                                                NaN          \n",
       "2014-01-01 03:00:20                                                NaN          \n",
       "2014-01-01 04:50:30                                                NaN          \n",
       "2014-01-01 06:11:50                                                NaN          \n",
       "\n",
       "                     index__mean_n_absolute_max__number_of_maxima_7  \n",
       "2014-01-01 01:41:00                                             NaN  \n",
       "2014-01-01 02:21:10                                             NaN  \n",
       "2014-01-01 03:00:20                                             NaN  \n",
       "2014-01-01 04:50:30                                             NaN  \n",
       "2014-01-01 06:11:50                                             NaN  \n",
       "\n",
       "[5 rows x 1566 columns]"
      ]
     },
     "execution_count": 45,
     "metadata": {},
     "output_type": "execute_result"
    }
   ],
   "source": [
    "from tsfresh.feature_extraction import extract_features\n",
    "from tsfresh.feature_extraction import ComprehensiveFCParameters\n",
    "\n",
    "settings = ComprehensiveFCParameters()\n",
    "extract_features(data, column_id='Time', default_fc_parameters=settings)"
   ]
  },
  {
   "cell_type": "markdown",
   "id": "6485606f-9f8d-4503-acf7-814322bcb200",
   "metadata": {},
   "source": [
    "## ROCKET"
   ]
  },
  {
   "cell_type": "code",
   "execution_count": 47,
   "id": "47ad306a-7805-4acb-9403-499a475555fb",
   "metadata": {},
   "outputs": [],
   "source": [
    "from sktime.datasets import load_arrow_head\n",
    "#from sktime.utils.data_processing import from_nested_to_2d_array"
   ]
  },
  {
   "cell_type": "code",
   "execution_count": 49,
   "id": "cbc92e31-32b2-4ff6-a7b1-6246a7ab6b84",
   "metadata": {},
   "outputs": [
    {
     "data": {
      "text/html": [
       "<div>\n",
       "<style scoped>\n",
       "    .dataframe tbody tr th:only-of-type {\n",
       "        vertical-align: middle;\n",
       "    }\n",
       "\n",
       "    .dataframe tbody tr th {\n",
       "        vertical-align: top;\n",
       "    }\n",
       "\n",
       "    .dataframe thead th {\n",
       "        text-align: right;\n",
       "    }\n",
       "</style>\n",
       "<table border=\"1\" class=\"dataframe\">\n",
       "  <thead>\n",
       "    <tr style=\"text-align: right;\">\n",
       "      <th></th>\n",
       "      <th>dim_0</th>\n",
       "    </tr>\n",
       "  </thead>\n",
       "  <tbody>\n",
       "    <tr>\n",
       "      <th>0</th>\n",
       "      <td>0     -1.963009\n",
       "1     -1.957825\n",
       "2     -1.95614...</td>\n",
       "    </tr>\n",
       "    <tr>\n",
       "      <th>1</th>\n",
       "      <td>0     -1.774571\n",
       "1     -1.774036\n",
       "2     -1.77658...</td>\n",
       "    </tr>\n",
       "    <tr>\n",
       "      <th>2</th>\n",
       "      <td>0     -1.866021\n",
       "1     -1.841991\n",
       "2     -1.83502...</td>\n",
       "    </tr>\n",
       "    <tr>\n",
       "      <th>3</th>\n",
       "      <td>0     -2.073758\n",
       "1     -2.073301\n",
       "2     -2.04460...</td>\n",
       "    </tr>\n",
       "    <tr>\n",
       "      <th>4</th>\n",
       "      <td>0     -1.746255\n",
       "1     -1.741263\n",
       "2     -1.72274...</td>\n",
       "    </tr>\n",
       "  </tbody>\n",
       "</table>\n",
       "</div>"
      ],
      "text/plain": [
       "                                               dim_0\n",
       "0  0     -1.963009\n",
       "1     -1.957825\n",
       "2     -1.95614...\n",
       "1  0     -1.774571\n",
       "1     -1.774036\n",
       "2     -1.77658...\n",
       "2  0     -1.866021\n",
       "1     -1.841991\n",
       "2     -1.83502...\n",
       "3  0     -2.073758\n",
       "1     -2.073301\n",
       "2     -2.04460...\n",
       "4  0     -1.746255\n",
       "1     -1.741263\n",
       "2     -1.72274..."
      ]
     },
     "execution_count": 49,
     "metadata": {},
     "output_type": "execute_result"
    }
   ],
   "source": [
    "X_train, y_train = load_arrow_head(split=\"train\", return_X_y=True)\n",
    "X_train.head()"
   ]
  },
  {
   "cell_type": "code",
   "execution_count": 54,
   "id": "77662786-a015-4933-bb04-3f6999635d39",
   "metadata": {},
   "outputs": [
    {
     "ename": "SyntaxError",
     "evalue": "invalid syntax (777279288.py, line 1)",
     "output_type": "error",
     "traceback": [
      "\u001b[0;36m  Cell \u001b[0;32mIn[54], line 1\u001b[0;36m\u001b[0m\n\u001b[0;31m    from sktime.utils.data_processing # import from_nested_to_2d_array\u001b[0m\n\u001b[0m                                      ^\u001b[0m\n\u001b[0;31mSyntaxError\u001b[0m\u001b[0;31m:\u001b[0m invalid syntax\n"
     ]
    }
   ],
   "source": [
    "from sktime.utils.data_processing # import from_nested_to_2d_array"
   ]
  },
  {
   "cell_type": "code",
   "execution_count": null,
   "id": "a9ddb903-0627-4c0e-b0ed-ea83bf775e6f",
   "metadata": {},
   "outputs": [],
   "source": []
  }
 ],
 "metadata": {
  "kernelspec": {
   "display_name": "Python 3 (ipykernel)",
   "language": "python",
   "name": "python3"
  },
  "language_info": {
   "codemirror_mode": {
    "name": "ipython",
    "version": 3
   },
   "file_extension": ".py",
   "mimetype": "text/x-python",
   "name": "python",
   "nbconvert_exporter": "python",
   "pygments_lexer": "ipython3",
   "version": "3.8.18"
  }
 },
 "nbformat": 4,
 "nbformat_minor": 5
}
